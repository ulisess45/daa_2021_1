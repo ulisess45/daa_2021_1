{
  "nbformat": 4,
  "nbformat_minor": 0,
  "metadata": {
    "colab": {
      "name": "30septiembre.ipynb",
      "provenance": [],
      "authorship_tag": "ABX9TyOF1NSpMwKHfdHSoqbEE8LK",
      "include_colab_link": true
    },
    "kernelspec": {
      "name": "python3",
      "display_name": "Python 3"
    }
  },
  "cells": [
    {
      "cell_type": "markdown",
      "metadata": {
        "id": "view-in-github",
        "colab_type": "text"
      },
      "source": [
        "<a href=\"https://colab.research.google.com/github/ulisess45/daa_2021_1/blob/master/30septiembre.ipynb\" target=\"_parent\"><img src=\"https://colab.research.google.com/assets/colab-badge.svg\" alt=\"Open In Colab\"/></a>"
      ]
    },
    {
      "cell_type": "markdown",
      "metadata": {
        "id": "6f-xeWraQK-S"
      },
      "source": [
        "# Palindromos\n",
        "Es una palabra que se lee, de igual forma de un sentido y de sentido inverso, ejemplo:\n",
        "1.Sugua\n",
        "1.cao\n",
        "1.reconocer\n",
        "etc.\n",
        "\n",
        "#Planteamiento del problema\n",
        "Se desea encontrar los palindromos que existen en la franja horario de un dia completo, tomando como horario inicial las 00:00 y como horario final las 23:59\n",
        "\n",
        "El algoritmo debe mostrar en pantalla todos los polindromos existentes es ese rango,al final debe mostrar el conteo de total de palindromo exitente "
      ]
    },
    {
      "cell_type": "code",
      "metadata": {
        "id": "d8aLyOqWP6HZ",
        "outputId": "246aa215-56c4-498e-c6b1-41e737409721",
        "colab": {
          "base_uri": "https://localhost:8080/",
          "height": 425
        }
      },
      "source": [
        "def horario():\n",
        "  for hora in range(0,24,1):\n",
        "    for minu in range(0,60,1):\n",
        "      if minu==hora and hora==minu:\n",
        "          print(f'{hora}:{minu}')\n",
        "      \n",
        "  return horario\n",
        "\n",
        "def main ():\n",
        "    hora=horario()\n",
        "\n",
        "main()\n"
      ],
      "execution_count": 4,
      "outputs": [
        {
          "output_type": "stream",
          "text": [
            "0:0\n",
            "1:1\n",
            "2:2\n",
            "3:3\n",
            "4:4\n",
            "5:5\n",
            "6:6\n",
            "7:7\n",
            "8:8\n",
            "9:9\n",
            "10:10\n",
            "11:11\n",
            "12:12\n",
            "13:13\n",
            "14:14\n",
            "15:15\n",
            "16:16\n",
            "17:17\n",
            "18:18\n",
            "19:19\n",
            "20:20\n",
            "21:21\n",
            "22:22\n",
            "23:23\n"
          ],
          "name": "stdout"
        }
      ]
    }
  ]
}