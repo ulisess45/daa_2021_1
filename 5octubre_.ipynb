{
  "nbformat": 4,
  "nbformat_minor": 0,
  "metadata": {
    "colab": {
      "name": "5octubre .ipynb",
      "provenance": [],
      "authorship_tag": "ABX9TyPjgJrdFSfCEC1fmRv0GrtN",
      "include_colab_link": true
    },
    "kernelspec": {
      "name": "python3",
      "display_name": "Python 3"
    }
  },
  "cells": [
    {
      "cell_type": "markdown",
      "metadata": {
        "id": "view-in-github",
        "colab_type": "text"
      },
      "source": [
        "<a href=\"https://colab.research.google.com/github/ulisess45/daa_2021_1/blob/master/5octubre_.ipynb\" target=\"_parent\"><img src=\"https://colab.research.google.com/assets/colab-badge.svg\" alt=\"Open In Colab\"/></a>"
      ]
    },
    {
      "cell_type": "markdown",
      "metadata": {
        "id": "gY6zHxYuAHkj"
      },
      "source": [
        "# Estructura de datos Pila(Stack) \n",
        "- LIFO(last in first out \n",
        "- Se pueden obtener o ingresar desde el tope \n",
        "- push para agregar\n",
        "- pop para sacar\n",
        "## Operaciones de l as pilas \n",
        "1. is_empty(regresa true o false )\n",
        "2. get_top(regresa el elemento en el tope sin sacarlo)\n",
        "3. pop(Saca el elemento del tope)\n",
        "4. push(agrega un elemento en el tope)\n",
        "5. get_length(regresa el numero de elementos en la fila)\n"
      ]
    },
    {
      "cell_type": "code",
      "metadata": {
        "id": "6NaO7liV-4IF"
      },
      "source": [
        "class Stack:\n",
        "  def __init__(self):\n",
        "    self.__datos=[]\n",
        "\n",
        "  def is_empty(self):\n",
        "    return len(self.__datos) == 0\n",
        "  \n",
        "  def get_top(self):\n",
        "    return self.__datos[-1]#regresa el ultimo elemento\n",
        "\n",
        "  def pop(self):\n",
        "    return self.__datos.pop()\n",
        "  \n",
        "  def push(self,valor):\n",
        "     self.__datos.append(valor)\n",
        "\n",
        "  def get_length(self):\n",
        "    return len(self.__datos)\n",
        "\n",
        "  def to_string(self): #imprimir datos \n",
        "    print(\"---------------\")\n",
        "    for ele in self.__datos[-1::-1]:\n",
        "      print(f\"{ele}\")\n",
        "    print(\"----------------\")\n",
        "    \n"
      ],
      "execution_count": 18,
      "outputs": []
    },
    {
      "cell_type": "code",
      "metadata": {
        "id": "3rN2C35NFPV0",
        "outputId": "9357b898-574e-4cf4-e791-7d045a3a7790",
        "colab": {
          "base_uri": "https://localhost:8080/",
          "height": 578
        }
      },
      "source": [
        "pila1=Stack()\n",
        "pila1.push(10)\n",
        "pila1.push(20)\n",
        "pila1.push(1)\n",
        "pila1.push(988)\n",
        "pila1.push(103)\n",
        "pila1.to_string()\n",
        "\n",
        "sacado=pila1.pop()\n",
        "print(sacado)\n",
        "pila1.to_string()\n",
        "\n",
        "pila1.push(444)\n",
        "pila1.push(546)\n",
        "pila1.to_string()\n",
        "\n",
        "print(f\"El elemento en el tope:{pila1.get_top()}\")\n",
        "pila1.to_string()\n",
        "print(f\"La pila tiene tiene {pila1.get_length()} elementos\")\n",
        "print(f\"¿La pila esta vacia?:{pila1.is_empty()}\")\n"
      ],
      "execution_count": 19,
      "outputs": [
        {
          "output_type": "stream",
          "text": [
            "---------------\n",
            "103\n",
            "988\n",
            "1\n",
            "20\n",
            "10\n",
            "----------------\n",
            "103\n",
            "---------------\n",
            "988\n",
            "1\n",
            "20\n",
            "10\n",
            "----------------\n",
            "---------------\n",
            "546\n",
            "444\n",
            "988\n",
            "1\n",
            "20\n",
            "10\n",
            "----------------\n",
            "El elemento en el tope:546\n",
            "---------------\n",
            "546\n",
            "444\n",
            "988\n",
            "1\n",
            "20\n",
            "10\n",
            "----------------\n",
            "La pila tiene tiene 6 elementos\n",
            "¿La pila esta vacia?:False\n"
          ],
          "name": "stdout"
        }
      ]
    },
    {
      "cell_type": "markdown",
      "metadata": {
        "id": "4w8P1u5qJBSe"
      },
      "source": [
        ""
      ]
    }
  ]
}