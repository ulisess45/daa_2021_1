{
  "nbformat": 4,
  "nbformat_minor": 0,
  "metadata": {
    "colab": {
      "name": "Pilas.ipynb",
      "provenance": [],
      "authorship_tag": "ABX9TyPCWQsmQr2aghJE7nAqFrSm",
      "include_colab_link": true
    },
    "kernelspec": {
      "name": "python3",
      "display_name": "Python 3"
    }
  },
  "cells": [
    {
      "cell_type": "markdown",
      "metadata": {
        "id": "view-in-github",
        "colab_type": "text"
      },
      "source": [
        "<a href=\"https://colab.research.google.com/github/ulisess45/daa_2021_1/blob/master/Pilas.ipynb\" target=\"_parent\"><img src=\"https://colab.research.google.com/assets/colab-badge.svg\" alt=\"Open In Colab\"/></a>"
      ]
    },
    {
      "cell_type": "code",
      "metadata": {
        "id": "GwTK-N56tb9-"
      },
      "source": [
        "class Stack:\n",
        "  def __init__(self):\n",
        "    self.__datos=[]\n",
        "\n",
        "  def is_empty(self):\n",
        "    return len(self.__datos) == 0\n",
        "  \n",
        "  def get_top(self):\n",
        "    return self.__datos[-1]#regresa el ultimo elemento\n",
        "\n",
        "  def pop(self):\n",
        "    return self.__datos.pop()\n",
        "  \n",
        "  def push(self,valor):\n",
        "        self.__datos.append(valor)\n",
        "\n",
        "  def get_length(self):#numero de elementos \n",
        "    return len(self.__datos)\n",
        "\n",
        "  def to_string(self): #imprimir datos \n",
        "    print(\"---------------\")\n",
        "    for ele in self.__datos[-1::-1]:\n",
        "      print(f\"{ele}\")\n",
        "    print(\"----------------\")\n"
      ],
      "execution_count": null,
      "outputs": []
    },
    {
      "cell_type": "code",
      "metadata": {
        "id": "gMTEbZsStyWi"
      },
      "source": [
        "def verificar(cadena):\n",
        "    p=Stack()\n",
        "    tmp=0\n",
        "    while tmp < 0 and len(cadena):\n",
        "        simbolo=cadena[i]\n",
        "        if cadena in \"([{\":\n",
        "            p.push('@')\n",
        "        elif cadena in \")]}\":\n",
        "            p.pop()\n",
        "    tmp+=1\n",
        "    if p.is_empty():\n",
        "        print(\"Esta balanceado\")\n",
        "\n",
        "    if p.get_length()> 0:\n",
        "        \n",
        "        print(\"No esta balanceado\")\n",
        "        \n",
        "    return cadena\n",
        "\n",
        "def main():\n",
        "    print(verificar(\"((()))\"))\n",
        "\n",
        "main()\n"
      ],
      "execution_count": null,
      "outputs": []
    }
  ]
}