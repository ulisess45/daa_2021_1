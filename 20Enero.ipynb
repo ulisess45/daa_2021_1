{
  "nbformat": 4,
  "nbformat_minor": 0,
  "metadata": {
    "colab": {
      "name": "20Enero.ipynb",
      "provenance": [],
      "authorship_tag": "ABX9TyO8drhjIvISNAgFwqy9Rnf0",
      "include_colab_link": true
    },
    "kernelspec": {
      "name": "python3",
      "display_name": "Python 3"
    }
  },
  "cells": [
    {
      "cell_type": "markdown",
      "metadata": {
        "id": "view-in-github",
        "colab_type": "text"
      },
      "source": [
        "<a href=\"https://colab.research.google.com/github/ulisess45/daa_2021_1/blob/master/20Enero.ipynb\" target=\"_parent\"><img src=\"https://colab.research.google.com/assets/colab-badge.svg\" alt=\"Open In Colab\"/></a>"
      ]
    },
    {
      "cell_type": "code",
      "metadata": {
        "id": "Nqxt3psyMpYR"
      },
      "source": [
        "class NodoArbol:\r\n",
        "  def _init_(self, dato, hijo_izq = None, hijo_der = None):\r\n",
        "    self.dato = dato\r\n",
        "    self.left = hijo_izq\r\n",
        "    self.right = hijo_der"
      ],
      "execution_count": 31,
      "outputs": []
    },
    {
      "cell_type": "markdown",
      "metadata": {
        "id": "hbyKFdm1NJqX"
      },
      "source": [
        "#Arbol Binario de Busqueda\r\n",
        "Los nodos a la izq son menores a la raiz y los nodos a la derecha son mayores a la raiz. Puede ser  recorridos en: pre-orden y post-orden\r\n",
        "\r\n"
      ]
    },
    {
      "cell_type": "code",
      "metadata": {
        "id": "BM_10uqvNlb8"
      },
      "source": [
        "class BinarySearchTree:\r\n",
        "  def _init_(self):\r\n",
        "    self.__root = None\r\n",
        "  \r\n",
        "  def insert(self, value):\r\n",
        "    if self.__root == None:\r\n",
        "      self.__root = NodoArbol(value, None, None)\r\n",
        "    else:\r\n",
        "      \"\"\"preguntar si value es menor o mayor que root \"\"\"\r\n",
        "      self.InsertNodo(self.__root, value)\r\n",
        "  \r\n",
        "  def InsertNodo(self, nodo,value):\r\n",
        "    if nodo.dato == value:\r\n",
        "      pass\r\n",
        "    elif value < nodo.dato:#True, va a la izquierda\r\n",
        "      if nodo.left == None:#revisar si hay espacio a la izquierda \r\n",
        "        nodo.left = NodoArbol(value, None,None)#insertamos\r\n",
        "      else:\r\n",
        "        self.InsertNodo(nodo.left, value)\r\n",
        "    else:\r\n",
        "      if nodo.right == None:\r\n",
        "        nodo.right = NodoArbol(value, None, None)\r\n",
        "      else:\r\n",
        "        self.InsertNodo(nodo.right, value)\r\n",
        "\r\n",
        "  def _insert_nodo_(self, nodo, value):\r\n",
        "    if nodo.dato == value:\r\n",
        "      pass\r\n",
        "    elif value < nodo.dato: #true va a la izq\r\n",
        "      if nodo.left == None: #Si hay espacio en la izq, ahi va\r\n",
        "         nodo.left = NodoArbol(value, None, None) #Insertamos el nodo\r\n",
        "      else:\r\n",
        "        self._insert_nodo_(nodo.left, value) #Buscar en sub arbol izq\r\n",
        "    else:\r\n",
        "      if nodo.right == None:\r\n",
        "        nodo.right = NodoArbol (value, None, None)\r\n",
        "      else:\r\n",
        "        self._insert_nodo_ (nodo.right, vlue) #biscar en sub arbol de\r\n",
        "\r\n",
        "  def buscar (self, value):\r\n",
        "    if self.__root == None:\r\n",
        "      return None\r\n",
        "    else:\r\n",
        "      #Haremos busqueda recursiva\r\n",
        "      return self._busca_nodo(self._root, value)\r\n",
        "\r\n",
        "  def __busca_nodo(self, nodo, value):\r\n",
        "    if nodo == None:\r\n",
        "      return None\r\n",
        "    elif nodo.dato == value:\r\n",
        "      return nodo.dato\r\n",
        "    elif value < nodo.dato:\r\n",
        "      return self.__busca_nodo(nodo.left, value)\r\n",
        "    else:\r\n",
        "      return self.__busca_nodo(nodo.right, value)\r\n",
        "  \r\n",
        "  def transversal (self, format = \"inorden\"):\r\n",
        "    if format == \"inorden\":\r\n",
        "      self._recorrido_in(self._root)\r\n",
        "    elif format == \"preorden\":\r\n",
        "      self._recorrido_pre(self._root)\r\n",
        "    elif format == \"posorden\":\r\n",
        "      self._recorrido_pos(self._root)\r\n",
        "    else:\r\n",
        "      print(\"Formato de recorrido no valido\")\r\n",
        "  \r\n",
        "  def __recorrido_pre(self, nodo):\r\n",
        "    if nodo != None:\r\n",
        "      print(nodo.dato, end = \",\")\r\n",
        "      self.__recorrido_pre(nodo.left)\r\n",
        "      self.__recorrido_pre(nodo.right)\r\n",
        "\r\n",
        "  def __recorrido_in(self, nodo):\r\n",
        "    if nodo != None:  \r\n",
        "      self.__recorrido_pre(nodo.left)\r\n",
        "      print(nodo.dato, end = \",\")\r\n",
        "      self.__recorrido_pre(nodo.right)\r\n",
        "\r\n",
        "  def __recorrido_pos(self, nodo):\r\n",
        "    if nodo != None:  \r\n",
        "      self.__recorrido_pre(nodo.left)\r\n",
        "      self.__recorrido_pre(nodo.right)\r\n",
        "      print(nodo.dato, end = \",\")"
      ],
      "execution_count": 28,
      "outputs": []
    },
    {
      "cell_type": "code",
      "metadata": {
        "id": "3wHWeMefT_J-"
      },
      "source": [
        "bst = BinarySearchTree()\r\n",
        "bst.insert(50)\r\n",
        "bst.insert(30)\r\n",
        "bst.insert(20)\r\n",
        "res = bst.buscar(30) #true o false\r\n",
        "print(\"Dato: \" + str(res))\r\n",
        "print(bst.buscar(40))\r\n",
        "print(\"Recorrido pre:\")\r\n",
        "bst.transversal(format = \"preorden\")\r\n",
        "bst.transversal(format = \"inorden\")\r\n",
        "bst.transversal(format = \"posorden\")"
      ],
      "execution_count": null,
      "outputs": []
    }
  ]
}