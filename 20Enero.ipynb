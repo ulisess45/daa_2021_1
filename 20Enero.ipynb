{
  "nbformat": 4,
  "nbformat_minor": 0,
  "metadata": {
    "colab": {
      "name": "20Enero.ipynb",
      "provenance": [],
      "authorship_tag": "ABX9TyOhKEWgy+ctpIT/6av486Gp",
      "include_colab_link": true
    },
    "kernelspec": {
      "name": "python3",
      "display_name": "Python 3"
    }
  },
  "cells": [
    {
      "cell_type": "markdown",
      "metadata": {
        "id": "view-in-github",
        "colab_type": "text"
      },
      "source": [
        "<a href=\"https://colab.research.google.com/github/ulisess45/daa_2021_1/blob/master/20Enero.ipynb\" target=\"_parent\"><img src=\"https://colab.research.google.com/assets/colab-badge.svg\" alt=\"Open In Colab\"/></a>"
      ]
    },
    {
      "cell_type": "code",
      "metadata": {
        "id": "Nqxt3psyMpYR"
      },
      "source": [
        "\r\n",
        "class NodoArbol:\r\n",
        "  def __init__(self, dato, hijo_izq = None, hijo_der = None):\r\n",
        "    self.dato = dato\r\n",
        "    self.left = hijo_izq\r\n",
        "    self.right = hijo_der"
      ],
      "execution_count": 1,
      "outputs": []
    },
    {
      "cell_type": "markdown",
      "metadata": {
        "id": "hbyKFdm1NJqX"
      },
      "source": [
        "#Arbol Binario de Busqueda\r\n",
        "Los nodos a la izq son menores a la raiz y los nodos a la derecha son mayores a la raiz. Puede ser  recorridos en: pre-orden y post-orden\r\n",
        "\r\n"
      ]
    },
    {
      "cell_type": "code",
      "metadata": {
        "id": "BM_10uqvNlb8"
      },
      "source": [
        "\r\n",
        "class BinarySearchTree:\r\n",
        "  def __init__(self):\r\n",
        "    self.__root = None\r\n",
        "  \r\n",
        "  def insert(self, value):\r\n",
        "    if self.__root == None:\r\n",
        "      self.__root = NodoArbol(value, None, None)\r\n",
        "    else:\r\n",
        "      #Preguntar si value es menor que root, de ser el caso\r\n",
        "      #Insertar a la izq. PERO puede ser el caso que el sub arbol\r\n",
        "      #Izq ya tenga muchos elementos\r\n",
        "      self.__insert_nodo__(self.__root, value)\r\n",
        "\r\n",
        "  def __insert_nodo__(self, nodo, value):\r\n",
        "    if nodo.dato == value:\r\n",
        "      pass\r\n",
        "    elif value < nodo.dato: #true va a la izq\r\n",
        "      if nodo.left == None: #Si hay espacio en la izq, ahi va\r\n",
        "         nodo.left = NodoArbol(value, None, None) #Insertamos el nodo\r\n",
        "      else:\r\n",
        "        self.__insert_nodo__(nodo.left, value) #Buscar en sub arbol izq\r\n",
        "    else:\r\n",
        "      if nodo.right == None:\r\n",
        "        nodo.right = NodoArbol (value, None, None)\r\n",
        "      else:\r\n",
        "        self.__insert_nodo__ (nodo.right, vlue) #biscar en sub arbol de\r\n",
        "\r\n",
        "  def buscar (self, value):\r\n",
        "    if self.__root == None:\r\n",
        "      return None\r\n",
        "    else:\r\n",
        "      #Haremos busqueda recursiva\r\n",
        "      return self.__busca_nodo(self.__root, value)\r\n",
        "\r\n",
        "  def __busca_nodo(self, nodo, value):\r\n",
        "    if nodo == None:\r\n",
        "      return None\r\n",
        "    elif nodo.dato == value:\r\n",
        "      return nodo.dato\r\n",
        "    elif value < nodo.dato:\r\n",
        "      return self.__busca_nodo(nodo.left, value)\r\n",
        "    else:\r\n",
        "      return self.__busca_nodo(nodo.right, value)\r\n",
        "  \r\n",
        "  def transversal (self, format = \"inorden\"):\r\n",
        "    if format == \"inorden\":\r\n",
        "      self.__recorrido_in(self.__root)\r\n",
        "    elif format == \"preorden\":\r\n",
        "      self.__recorrido_pre(self.__root)\r\n",
        "    elif format == \"posorden\":\r\n",
        "      self.__recorrido_pos(self.__root)\r\n",
        "    else:\r\n",
        "      print(\"Formato de recorrido no valido\")\r\n",
        "  \r\n",
        "  def __recorrido_pre(self, nodo):\r\n",
        "    if nodo != None:\r\n",
        "      print(nodo.dato, end = \",\")\r\n",
        "      self.__recorrido_pre(nodo.left)\r\n",
        "      self.__recorrido_pre(nodo.right)\r\n",
        "\r\n",
        "  def __recorrido_in(self, nodo):\r\n",
        "    if nodo != None:  \r\n",
        "      self.__recorrido_pre(nodo.left)\r\n",
        "      print(nodo.dato, end = \",\")\r\n",
        "      self.__recorrido_pre(nodo.right)\r\n",
        "\r\n",
        "  def __recorrido_pos(self, nodo):\r\n",
        "    if nodo != None:  \r\n",
        "      self.__recorrido_pre(nodo.left)\r\n",
        "      self.__recorrido_pre(nodo.right)\r\n",
        "      print(nodo.dato, end = \",\")"
      ],
      "execution_count": 2,
      "outputs": []
    },
    {
      "cell_type": "code",
      "metadata": {
        "id": "3wHWeMefT_J-",
        "colab": {
          "base_uri": "https://localhost:8080/"
        },
        "outputId": "ae7c7e55-cb46-4ac0-edea-889655956953"
      },
      "source": [
        "bst = BinarySearchTree()\r\n",
        "bst.insert(50)\r\n",
        "bst.insert(30)\r\n",
        "bst.insert(20)\r\n",
        "res = bst.buscar(30) #true o false\r\n",
        "print(\"Dato: \" + str(res))\r\n",
        "print(bst.buscar(40))\r\n",
        "print(\"Recorrido pre:\")\r\n",
        "bst.transversal(format = \"preorden\")\r\n",
        "print(\"\\n Recorrido in:\")\r\n",
        "bst.transversal(format = \"inorden\")\r\n",
        "print(\"\\n Recorrido pos:\")\r\n",
        "bst.transversal(format = \"posorden\")"
      ],
      "execution_count": 3,
      "outputs": [
        {
          "output_type": "stream",
          "text": [
            "Dato: 30\n",
            "None\n",
            "Recorrido pre:\n",
            "50,30,20,\n",
            " Recorrido in:\n",
            "30,20,50,\n",
            " Recorrido pos:\n",
            "30,20,50,"
          ],
          "name": "stdout"
        }
      ]
    }
  ]
}