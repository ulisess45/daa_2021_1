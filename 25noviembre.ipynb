{
  "nbformat": 4,
  "nbformat_minor": 0,
  "metadata": {
    "colab": {
      "name": "25noviembre.ipynb",
      "provenance": [],
      "authorship_tag": "ABX9TyOOFQTNe0YEHeCB+MBJutxu",
      "include_colab_link": true
    },
    "kernelspec": {
      "name": "python3",
      "display_name": "Python 3"
    }
  },
  "cells": [
    {
      "cell_type": "markdown",
      "metadata": {
        "id": "view-in-github",
        "colab_type": "text"
      },
      "source": [
        "<a href=\"https://colab.research.google.com/github/ulisess45/daa_2021_1/blob/master/25noviembre.ipynb\" target=\"_parent\"><img src=\"https://colab.research.google.com/assets/colab-badge.svg\" alt=\"Open In Colab\"/></a>"
      ]
    },
    {
      "cell_type": "code",
      "metadata": {
        "id": "Uhgwpvv55Hh_"
      },
      "source": [
        "frase=\"\"\"El lema que anima a la Universidad Nacional, Por mi raza hablará el espíritu, revela la vocación humanística con la que fue concebida. El autor de esta célebre frase, José Vasconcelos, asumió la rectoría en 1920, en una época en que las esperanzas de la Revolución aún estaban vivas,\n",
        " había una gran fe en la Patria y el ánimo redentor se extendía en el ambiente.\"\"\"\n",
        "\n",
        "frase= frase.strip().replace(\"\\n\",\"\").replace(\",\",\"\").replace(\".\",\"\").lower().split(\" \")\n",
        "print(frase)\n",
        "frecuencias = {}\n",
        "for index in range(len(frase)):\n",
        "  if frase[index] in frecuencias: # 'el' i frecuencias\n",
        "    pass\n",
        "  else:\n",
        "    frecuencias[frase[index]] = 1 #frecuencias ['el']=1\n",
        "    for pivote in range(index+1,len(frase),1):\n",
        "      #print(frase[index],\"comparada contra:\", frase[pivote])\n",
        "      if frase[index] == frase[pivote]:\n",
        "        frecuencias[frase[index]] +=1\n",
        "print(frecuencias)  \n"
      ],
      "execution_count": null,
      "outputs": []
    },
    {
      "cell_type": "code",
      "metadata": {
        "colab": {
          "base_uri": "https://localhost:8080/"
        },
        "id": "wJP2x0J7FdvI",
        "outputId": "f0e097c4-0a6f-45f6-bb22-386fe0d79c4a"
      },
      "source": [
        "frase=\"\"\"El lema que anima a la Universidad Nacional, Por mi raza hablará el espíritu, revela la vocación humanística con la que fue concebida. El autor de esta célebre frase, José Vasconcelos, asumió la rectoría en 1920, en una época en que las esperanzas de la Revolución aún estaban vivas,\n",
        " había una gran fe en la Patria y el ánimo redentor se extendía en el ambiente.\"\"\"\n",
        "frase= frase.strip().replace(\"\\n\",\"\").replace(\",\",\"\").replace(\".\",\"\").lower().split(\" \")\n",
        "print(frase)\n",
        "frecuencias ={}\n",
        "for index in range(len(frase)):\n",
        "  print(hash(frase[index]))\n",
        "  if frase[index] in frecuencias :\n",
        "    frecuencias[frase[index]] += 1\n",
        "  else:\n",
        "    frecuencias[frase[index]] = 1\n",
        "print(frecuencias)\n"
      ],
      "execution_count": 17,
      "outputs": [
        {
          "output_type": "stream",
          "text": [
            "['el', 'lema', 'que', 'anima', 'a', 'la', 'universidad', 'nacional', 'por', 'mi', 'raza', 'hablará', 'el', 'espíritu', 'revela', 'la', 'vocación', 'humanística', 'con', 'la', 'que', 'fue', 'concebida', 'el', 'autor', 'de', 'esta', 'célebre', 'frase', 'josé', 'vasconcelos', 'asumió', 'la', 'rectoría', 'en', '1920', 'en', 'una', 'época', 'en', 'que', 'las', 'esperanzas', 'de', 'la', 'revolución', 'aún', 'estaban', 'vivas', 'había', 'una', 'gran', 'fe', 'en', 'la', 'patria', 'y', 'el', 'ánimo', 'redentor', 'se', 'extendía', 'en', 'el', 'ambiente']\n",
            "-5680957892745248688\n",
            "-6163411361170251344\n",
            "-3663247060855306058\n",
            "-3264727143297444604\n",
            "4993768494564616293\n",
            "-2227122542266814788\n",
            "-2852010533135732356\n",
            "-1968736991966292756\n",
            "9061266323079839938\n",
            "7636674355520144781\n",
            "-5282155281628518925\n",
            "2560258237883017349\n",
            "-5680957892745248688\n",
            "4931024604410352849\n",
            "1280023174601403818\n",
            "-2227122542266814788\n",
            "4461991259620593748\n",
            "-7757542640255289187\n",
            "7928479565936750528\n",
            "-2227122542266814788\n",
            "-3663247060855306058\n",
            "-8694407709429749314\n",
            "-4108799679266871567\n",
            "-5680957892745248688\n",
            "109839846272823786\n",
            "6748427909960166381\n",
            "-2220527442225267730\n",
            "1877663763725724098\n",
            "5004510972387093206\n",
            "-8272434306029676482\n",
            "-412447577399642097\n",
            "-2832870867749280114\n",
            "-2227122542266814788\n",
            "-1518837367442755546\n",
            "2133500866673296546\n",
            "3836096889198348293\n",
            "2133500866673296546\n",
            "6385199123395302891\n",
            "596812133973373153\n",
            "2133500866673296546\n",
            "-3663247060855306058\n",
            "-3751780556901923565\n",
            "-1949678882165773684\n",
            "6748427909960166381\n",
            "-2227122542266814788\n",
            "-8890034828890341226\n",
            "-2684742190553015420\n",
            "7581900868555968812\n",
            "-4040713709086940801\n",
            "-2989539850927136276\n",
            "6385199123395302891\n",
            "4829064213095549227\n",
            "4005696447187009884\n",
            "2133500866673296546\n",
            "-2227122542266814788\n",
            "-197434424233664978\n",
            "6232158684471541537\n",
            "-5680957892745248688\n",
            "-270524888638925601\n",
            "-1415185715034273817\n",
            "-842739503372365925\n",
            "-3978421614120281076\n",
            "2133500866673296546\n",
            "-5680957892745248688\n",
            "-6036317362078874961\n",
            "{'el': 5, 'lema': 1, 'que': 3, 'anima': 1, 'a': 1, 'la': 6, 'universidad': 1, 'nacional': 1, 'por': 1, 'mi': 1, 'raza': 1, 'hablará': 1, 'espíritu': 1, 'revela': 1, 'vocación': 1, 'humanística': 1, 'con': 1, 'fue': 1, 'concebida': 1, 'autor': 1, 'de': 2, 'esta': 1, 'célebre': 1, 'frase': 1, 'josé': 1, 'vasconcelos': 1, 'asumió': 1, 'rectoría': 1, 'en': 5, '1920': 1, 'una': 2, 'época': 1, 'las': 1, 'esperanzas': 1, 'revolución': 1, 'aún': 1, 'estaban': 1, 'vivas': 1, 'había': 1, 'gran': 1, 'fe': 1, 'patria': 1, 'y': 1, 'ánimo': 1, 'redentor': 1, 'se': 1, 'extendía': 1, 'ambiente': 1}\n"
          ],
          "name": "stdout"
        }
      ]
    }
  ]
}