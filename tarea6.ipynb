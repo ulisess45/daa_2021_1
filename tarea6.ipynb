{
  "nbformat": 4,
  "nbformat_minor": 0,
  "metadata": {
    "colab": {
      "name": "tarea6.ipynb",
      "provenance": [],
      "authorship_tag": "ABX9TyNB/ehhusAn/pxKB0MCSjUz",
      "include_colab_link": true
    },
    "kernelspec": {
      "name": "python3",
      "display_name": "Python 3"
    }
  },
  "cells": [
    {
      "cell_type": "markdown",
      "metadata": {
        "id": "view-in-github",
        "colab_type": "text"
      },
      "source": [
        "<a href=\"https://colab.research.google.com/github/ulisess45/daa_2021_1/blob/master/tarea6.ipynb\" target=\"_parent\"><img src=\"https://colab.research.google.com/assets/colab-badge.svg\" alt=\"Open In Colab\"/></a>"
      ]
    },
    {
      "cell_type": "code",
      "metadata": {
        "id": "jwNErI3ycr5z"
      },
      "source": [
        "texto=\"\"\"El lema que anima a la Universidad Nacional,\n",
        "      Por mi raza hablará el espíritu,\n",
        "      revela la vocación humanística con la que fue concebida.\n",
        "      El autor de esta célebre frase, José Vasconcelos, asumió la rectoría en 1920,\n",
        "      en una época en que las esperanzas de la Revolución aún estaban vivas,\n",
        "      había una gran fe en la Patria y el ánimo redentor se extendía en el ambiente\"\"\"\n",
        "\n",
        "caracter= \",.\\n\"\n",
        "for i in caracter:\n",
        "    texto = texto.replace(i, \"\")\n",
        "texto = texto.replace(\"á\",\"a\")\n",
        "texto = texto.replace(\"é\",\"e\")\n",
        "texto = texto.replace(\"í\",\"i\")\n",
        "texto = texto.replace(\"ó\",\"o\")\n",
        "texto = texto.replace(\"ú\",\"u\")\n",
        "texto = texto.lower()\n",
        "texto1= texto.split(\" \")\n",
        "\n",
        "contador = {}\n",
        "for i in texto1:\n",
        "    if i in contador :\n",
        "        contador[i] += 1\n",
        "    else:\n",
        "        contador[i] = 1\n",
        "        \n",
        "for i in contador:\n",
        "    aux = contador[i]\n",
        "    print(f\"La palabra {i} se repite {aux} veces\")"
      ],
      "execution_count": null,
      "outputs": []
    }
  ]
}