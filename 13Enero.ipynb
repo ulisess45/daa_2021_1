{
  "nbformat": 4,
  "nbformat_minor": 0,
  "metadata": {
    "colab": {
      "name": "13Enero.ipynb",
      "provenance": [],
      "authorship_tag": "ABX9TyNPTuJfkmty9lltW16vWhTd",
      "include_colab_link": true
    },
    "kernelspec": {
      "name": "python3",
      "display_name": "Python 3"
    }
  },
  "cells": [
    {
      "cell_type": "markdown",
      "metadata": {
        "id": "view-in-github",
        "colab_type": "text"
      },
      "source": [
        "<a href=\"https://colab.research.google.com/github/ulisess45/daa_2021_1/blob/master/13Enero.ipynb\" target=\"_parent\"><img src=\"https://colab.research.google.com/assets/colab-badge.svg\" alt=\"Open In Colab\"/></a>"
      ]
    },
    {
      "cell_type": "code",
      "metadata": {
        "id": "Nqxt3psyMpYR"
      },
      "source": [
        "class NodoArbol:\r\n",
        "  def __init__ (self , value , left= None, rigth= None):\r\n",
        "    self.data = value\r\n",
        "    self.left = left\r\n",
        "    self.rigth = rigth"
      ],
      "execution_count": null,
      "outputs": []
    },
    {
      "cell_type": "markdown",
      "metadata": {
        "id": "hbyKFdm1NJqX"
      },
      "source": [
        "#Arbol Binario de Busqueda\r\n",
        "Los nodos a la izq son menores a la raiz y los nodos a la derecha son mayores a la raiz. Puede ser  recorridos en: pre-orden y post-orden\r\n",
        "\r\n"
      ]
    },
    {
      "cell_type": "code",
      "metadata": {
        "id": "BM_10uqvNlb8"
      },
      "source": [
        "class BinarySearchTree:\r\n",
        "  def __init__(self):\r\n",
        "    self.__root = None\r\n",
        "\r\n",
        "  def insert(self, value):\r\n",
        "    if self.__root ==None:\r\n",
        "      self.__root ==NodoArbol(value,None,None)\r\n",
        "    else:\r\n",
        "      #preguntar si el value es menor que root, de ser el caso \r\n",
        "      #insertar a la izq  pero ... puede ser el caso que el \r\n",
        "      #sub arbol izq ya que tenga muchos elementos \r\n",
        "      sel.__insert_nodo__(self.__root , value )\r\n",
        "\r\n",
        "  def __insertar_nodo__(self,nodo,value):\r\n",
        "    if nodo.data == value:\r\n",
        "      pass\r\n",
        "    elif value < nodo.data: #true va a la izq \r\n",
        "      if nodo.left == None:# si hay espacio en la iz,ahi va \r\n",
        "        nodo.left == NodoArbol(value , None , None)#insertamos el nodo\r\n",
        "      else:\r\n",
        "        self.__insert_nodo__( nodo.left, value  )#buscar el sub arbol izq\r\n",
        "    else: \r\n",
        "      if nodo.rigth == None:\r\n",
        "        nodo.rigth ==NodoArbol(value,None, None)\r\n",
        "      else:\r\n",
        "        self.__insert_nodo__(nodo.rigth , value)                             \r\n",
        "\r\n",
        "\r\n"
      ],
      "execution_count": 4,
      "outputs": []
    },
    {
      "cell_type": "code",
      "metadata": {
        "id": "63fmfDBdb3Ub"
      },
      "source": [
        "bst=BinarySearchTree()\r\n",
        "bst.insert(50)\r\n",
        "bst.insert(30)\r\n",
        "bst.insert(20)\r\n",
        "bst.search(30)\r\n"
      ],
      "execution_count": null,
      "outputs": []
    }
  ]
}