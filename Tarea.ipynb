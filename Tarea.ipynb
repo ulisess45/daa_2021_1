{
  "nbformat": 4,
  "nbformat_minor": 0,
  "metadata": {
    "colab": {
      "name": "Tarea.ipynb",
      "provenance": [],
      "authorship_tag": "ABX9TyNvLTA8mK68SWJ5LHTA4J8T",
      "include_colab_link": true
    },
    "kernelspec": {
      "display_name": "Python 3",
      "name": "python3"
    }
  },
  "cells": [
    {
      "cell_type": "markdown",
      "metadata": {
        "id": "view-in-github",
        "colab_type": "text"
      },
      "source": [
        "<a href=\"https://colab.research.google.com/github/ulisess45/daa_2021_1/blob/master/Tarea.ipynb\" target=\"_parent\"><img src=\"https://colab.research.google.com/assets/colab-badge.svg\" alt=\"Open In Colab\"/></a>"
      ]
    },
    {
      "cell_type": "code",
      "metadata": {
        "id": "yl31migD3k_k",
        "outputId": "f64fba97-4a28-4a3e-f2ce-5433eeadaa15",
        "colab": {
          "base_uri": "https://localhost:8080/",
          "height": 102
        }
      },
      "source": [
        "n=7\n",
        "def ejemplo(n):\n",
        "  count=0\n",
        "  i=n\n",
        "  print(\"Nivel 1\")\n",
        "  while i >= 1:\n",
        "    count += 1\n",
        "    i=i//2\n",
        "    print(\"Nivel 2\")\n",
        "  basura=3+2\n",
        "  return count\n",
        "\n",
        "ejemplo(n)"
      ],
      "execution_count": 22,
      "outputs": [
        {
          "output_type": "stream",
          "text": [
            "Nivel 1\n",
            "Nivel 2\n",
            "Nivel 2\n",
            "Nivel 2\n"
          ],
          "name": "stdout"
        },
        {
          "output_type": "execute_result",
          "data": {
            "text/plain": [
              "3"
            ]
          },
          "metadata": {
            "tags": []
          },
          "execution_count": 22
        }
      ]
    }
  ]
}