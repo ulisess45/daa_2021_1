{
  "nbformat": 4,
  "nbformat_minor": 0,
  "metadata": {
    "colab": {
      "name": "7octubre.ipynb",
      "provenance": [],
      "authorship_tag": "ABX9TyNyv2i39UIYyCyWpAVuV2E7",
      "include_colab_link": true
    },
    "kernelspec": {
      "name": "python3",
      "display_name": "Python 3"
    }
  },
  "cells": [
    {
      "cell_type": "markdown",
      "metadata": {
        "id": "view-in-github",
        "colab_type": "text"
      },
      "source": [
        "<a href=\"https://colab.research.google.com/github/ulisess45/daa_2021_1/blob/master/7octubre.ipynb\" target=\"_parent\"><img src=\"https://colab.research.google.com/assets/colab-badge.svg\" alt=\"Open In Colab\"/></a>"
      ]
    },
    {
      "cell_type": "markdown",
      "metadata": {
        "id": "OlqNsQh5StyK"
      },
      "source": [
        "# Busqueda Lineal\n",
        "dada un conjunto de datos no ordenados, busqueda lineal consiste en recorrer el conjunto de datos desde el inicio al final , moviendose de uno en uno hasta encontrar el elemento o llegar al final del conjunto\n",
        "\n",
        "datos = [ 4,18,47,2,34,14,78,12,48,21,31,19,1,3,5]\n",
        "\n",
        "# Busqueda Binaria \n",
        "Esta funciona sobre un conjunto de datos ordenado.\n",
        "Consiste en dividir el conjunto en mitades y buscar e esa mitad. si el elemento buscado no esta en la mitad , preguntas si el elemento esta a la derecha o a la izq.\n",
        "Haces la lista igual a la mitad  correspondiente y repites el proceso\n",
        "lista=[1, 2, 3, 4, 5, 12, 14, 18, 19, 21, 31, 34, 47, 48, 78]\n",
        "DER = longitud(L)-1\n",
        "\n",
        "IZQ = 0\n",
        "\n",
        "MID = 0\n",
        "MID apuntara a la mitad del segmento de busqueda \n",
        "\n",
        "buscado es el valor a buscar \n",
        "\n",
        "1. Hacer DER = longitud(listas)-1\n",
        "2. Hacer IZQ = 0\n",
        "3. si IZQ > DER significa que hay un error en los datos \n",
        "4. Calcular MID= int((IZQ+ DER)/2)\n",
        "5. mientras listas(MID) != buscado hacer\n",
        "6.  - preguntar lista[MID] > buscado \n",
        "      - hacer DER=mid \n",
        "    - de lo contrario \n",
        "      - hacer IZQ=mid  \n",
        "    - preguntar(DER=IZQ) %2\n",
        "      - MID=(IZQ +(DER-IZQ)/2))+1\n",
        "    - de lo contrario \n",
        "     - MID = IZQ+(DER-IZQ)/2)\n",
        "7. Return MID \n"
      ]
    },
    {
      "cell_type": "code",
      "metadata": {
        "id": "6VB0Z_zzSQR8"
      },
      "source": [
        "\"\"\"\n",
        "Busqueda lineal \n",
        "regresa la posicion del elemento buscado que si se encuentra dentro de lal lista regresa -1 si el elemento buscado no existe dentro de la lista \n",
        "\"\"\"\n",
        "\n",
        "\n",
        "def busq_lineal(lista,buscado):\n",
        "    indice = -1\n",
        "    contador = 0\n",
        "    for i in range(len(lista)):\n",
        "      contador+=1\n",
        "      if lista[i]==buscado:\n",
        "        indice = i\n",
        "        break \n",
        "    print(f\"numero de comparaciones realizadas={contador}\")\n",
        "    return indice\n",
        "\n",
        "def busqueda_binaria(lista,buscado):\n",
        "  IZQ = 0\n",
        "  DER=len(lista)-1\n",
        "  MID = int((IZQ + DER) /2)\n",
        "  if len(lista) %2 ==0:\n",
        "    MID= (DER // 2)+1\n",
        "  else:\n",
        "    MID= DER //2\n",
        "\n",
        "  while (lista[MID] != buscado):\n",
        "    if lista[MID] > buscado:\n",
        "      DER = MID\n",
        "    else:\n",
        "      IZQ = MID\n",
        "    if (DER -IZQ) %2 ==0:\n",
        "      MID = (IZQ+(DER-IZQ)//2)+1\n",
        "    else:\n",
        "      MID = IZQ + ((DER-IZQ)//2)-1\n",
        "  return MID \n",
        "\n",
        "\n",
        "def main():\n",
        "  datos = [ 4,18,47,2,34,14,78,12,48,21,31,19,1,3,5]\n",
        "  dato= int(input(\"Que valor quieres buscar:\"))\n",
        "  resultado =busq_lineal(datos,dato)\n",
        "  print(\"Resultado:\",resultado)\n",
        "\n",
        "  print(\"Busqueda lineal en una lista ordenada\")\n",
        "  datos.sort()\n",
        "  print(datos)\n",
        "  resultado =busq_lineal(datos,dato)\n",
        "  print(\"Resultado:\",resultado)\n",
        "\n",
        "  print(\"Busqueda Binaria\")\n",
        "  posicion = busqueda_binaria(datos,dato)\n",
        "  print(f\"El elemento {dato} esta en la posicion {posicion} de la lista\")\n",
        "\n",
        "main()"
      ],
      "execution_count": null,
      "outputs": []
    },
    {
      "cell_type": "code",
      "metadata": {
        "id": "KL1zJL3afLLz"
      },
      "source": [
        ""
      ],
      "execution_count": null,
      "outputs": []
    }
  ]
}