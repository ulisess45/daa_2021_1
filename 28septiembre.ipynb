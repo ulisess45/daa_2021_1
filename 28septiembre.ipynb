{
  "nbformat": 4,
  "nbformat_minor": 0,
  "metadata": {
    "colab": {
      "name": "28septiembre.ipynb",
      "provenance": [],
      "authorship_tag": "ABX9TyMPWrOVbGS2ZRxEve8ytFxE",
      "include_colab_link": true
    },
    "kernelspec": {
      "name": "python3",
      "display_name": "Python 3"
    }
  },
  "cells": [
    {
      "cell_type": "markdown",
      "metadata": {
        "id": "view-in-github",
        "colab_type": "text"
      },
      "source": [
        "<a href=\"https://colab.research.google.com/github/ulisess45/daa_2021_1/blob/master/28septiembre.ipynb\" target=\"_parent\"><img src=\"https://colab.research.google.com/assets/colab-badge.svg\" alt=\"Open In Colab\"/></a>"
      ]
    },
    {
      "cell_type": "markdown",
      "metadata": {
        "id": "bdOHLpixEgsb"
      },
      "source": [
        "#Seccion 1\n"
      ]
    },
    {
      "cell_type": "markdown",
      "metadata": {
        "id": "3KOAwN_ME0OQ"
      },
      "source": [
        "En este archivo aprederemos a programar en Python  con la herramienta de Google,colab research.\n",
        "Tambien aprenderemos a guardar nuestros cambios a nuestro repositorio de github.com"
      ]
    },
    {
      "cell_type": "markdown",
      "metadata": {
        "id": "-0aUqH4aFrmN"
      },
      "source": [
        "#Codigo de ejemplo\n",
        "\n",
        "`\n",
        "edad=10\n",
        "print(edad)\n",
        "`"
      ]
    },
    {
      "cell_type": "code",
      "metadata": {
        "id": "e82EfRuoGlpt",
        "outputId": "b23ed67f-4cbb-4244-a0e7-927c8c0ea0bb",
        "colab": {
          "base_uri": "https://localhost:8080/",
          "height": 34
        }
      },
      "source": [
        "frutas = []\n",
        "frutas.append('Manzana')\n",
        "frutas.append('Piña')\n",
        "frutas.append('kiwi')\n",
        "print(frutas)"
      ],
      "execution_count": 2,
      "outputs": [
        {
          "output_type": "stream",
          "text": [
            "['Manzana', 'Piña', 'kiwi']\n"
          ],
          "name": "stdout"
        }
      ]
    },
    {
      "cell_type": "code",
      "metadata": {
        "id": "Dqm9-KWZHrBb"
      },
      "source": [
        "archivo=open('prueba_daa.txt','wt')\n",
        "archivo.write(\"Hola mundo Jupyter\")\n",
        "archivo.close()"
      ],
      "execution_count": 3,
      "outputs": []
    }
  ]
}