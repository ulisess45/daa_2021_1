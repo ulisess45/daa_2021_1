{
  "nbformat": 4,
  "nbformat_minor": 0,
  "metadata": {
    "colab": {
      "name": "2diciembre.ipynb",
      "provenance": [],
      "authorship_tag": "ABX9TyPwPvWw9oLlc21l+BFJk0YM",
      "include_colab_link": true
    },
    "kernelspec": {
      "name": "python3",
      "display_name": "Python 3"
    }
  },
  "cells": [
    {
      "cell_type": "markdown",
      "metadata": {
        "id": "view-in-github",
        "colab_type": "text"
      },
      "source": [
        "<a href=\"https://colab.research.google.com/github/ulisess45/daa_2021_1/blob/master/2diciembre.ipynb\" target=\"_parent\"><img src=\"https://colab.research.google.com/assets/colab-badge.svg\" alt=\"Open In Colab\"/></a>"
      ]
    },
    {
      "cell_type": "code",
      "metadata": {
        "id": "P6dnO9N8ApVk"
      },
      "source": [
        "def fnRec(x):\n",
        "  if x== 0:\n",
        "    print(\"stop\")\n",
        "  else:\n",
        "    fnRec(x-1)\n",
        "    print(x)\n",
        "    \n",
        "def main():\n",
        "  print(\"inicio del programa\")\n",
        "  fnRec(5)\n",
        "  print(\"Fin del programa\")\n",
        "\n",
        "\n",
        "main()"
      ],
      "execution_count": null,
      "outputs": []
    },
    {
      "cell_type": "code",
      "metadata": {
        "id": "C88p35saCDyw"
      },
      "source": [
        "def printRev(x):\n",
        "  if x > 0:\n",
        "    print(x)\n",
        "    printRev(x-1)\n",
        "\n",
        "printRev(3)"
      ],
      "execution_count": null,
      "outputs": []
    },
    {
      "cell_type": "code",
      "metadata": {
        "id": "5F5hYjesIs5J"
      },
      "source": [
        "def fibonacci(n):\n",
        "  if n == 1 or n == 0:\n",
        "    return n\n",
        "  else:\n",
        "    return( fibonacci(n-1) + fibonacci(n-2) )\n",
        "\n",
        "fibonacci(8)"
      ],
      "execution_count": null,
      "outputs": []
    }
  ]
}