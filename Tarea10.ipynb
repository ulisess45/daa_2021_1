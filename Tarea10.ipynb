{
  "nbformat": 4,
  "nbformat_minor": 0,
  "metadata": {
    "colab": {
      "name": "Tarea10.ipynb",
      "provenance": [],
      "authorship_tag": "ABX9TyNja/jiVK2P3G/IzIp5R/FL",
      "include_colab_link": true
    },
    "kernelspec": {
      "name": "python3",
      "display_name": "Python 3"
    }
  },
  "cells": [
    {
      "cell_type": "markdown",
      "metadata": {
        "id": "view-in-github",
        "colab_type": "text"
      },
      "source": [
        "<a href=\"https://colab.research.google.com/github/ulisess45/daa_2021_1/blob/master/Tarea10.ipynb\" target=\"_parent\"><img src=\"https://colab.research.google.com/assets/colab-badge.svg\" alt=\"Open In Colab\"/></a>"
      ]
    },
    {
      "cell_type": "code",
      "metadata": {
        "id": "ji1plFPHqTeZ"
      },
      "source": [
        "class NodoArbol:\r\n",
        "  def __init__(self, value, left = None, right = None):\r\n",
        "    self.data = value\r\n",
        "    self.left = left\r\n",
        "    self.right = right\r\n",
        "\r\n",
        "  def encontrar(self, a):\r\n",
        "    if a == None:\r\n",
        "      return None\r\n",
        "    else:\r\n",
        "      self.encontrar(a.left)\r\n",
        "      self.encontrar(a.right)\r\n",
        "      if a.left == None and a.right == None:\r\n",
        "        print(\"Los Nodos hoja son:\", a.data)\r\n"
      ],
      "execution_count": 8,
      "outputs": []
    },
    {
      "cell_type": "code",
      "metadata": {
        "colab": {
          "base_uri": "https://localhost:8080/"
        },
        "id": "mO6HZB2kqb4m",
        "outputId": "9da8411d-2994-4043-ba8f-ca018ff81f2b"
      },
      "source": [
        "arbol = NodoArbol(4, NodoArbol(3, NodoArbol(2, NodoArbol(2))),NodoArbol(5))\r\n",
        "arbol.encontrar(arbol)"
      ],
      "execution_count": 13,
      "outputs": [
        {
          "output_type": "stream",
          "text": [
            "Los Nodos hoja son: 2\n",
            "Los Nodos hoja son: 5\n"
          ],
          "name": "stdout"
        }
      ]
    },
    {
      "cell_type": "code",
      "metadata": {
        "id": "l5Sje8fMyCE4"
      },
      "source": [
        "arbol2 =  NodoArbol(\"Nala\",NodoArbol(\"Samuel\"),NodoArbol(\"Meredith\",NodoArbol(\"Izzie\", NodoArbol(\"Cristina\"),NodoArbol(\"Alex\"))))\r\n",
        "arbol2.encontrar(arbol2)"
      ],
      "execution_count": null,
      "outputs": []
    },
    {
      "cell_type": "code",
      "metadata": {
        "id": "kUVNcXVyy62O"
      },
      "source": [
        "arbol3= NodoArbol(10,NodoArbol(8,NodoArbol(5,NodoArbol(1,NodoArbol(1))),NodoArbol(4,NodoArbol(3),NodoArbol(2))))\r\n",
        "arbol3.encontrar(arbol3)"
      ],
      "execution_count": null,
      "outputs": []
    },
    {
      "cell_type": "code",
      "metadata": {
        "id": "0xDIrigizvy0"
      },
      "source": [
        "arbol4= NodoArbol(\"E\", NodoArbol(\"U\"),NodoArbol(\"H\",NodoArbol(\"L\"),NodoArbol(\"S\",NodoArbol(\"I\"),NodoArbol(\"B\",NodoArbol(\"S\"),NodoArbol(\"U\",NodoArbol(\"E\"),NodoArbol(\"S\"))))))\r\n",
        "arbol4.encontrar(arbol4)"
      ],
      "execution_count": null,
      "outputs": []
    }
  ]
}