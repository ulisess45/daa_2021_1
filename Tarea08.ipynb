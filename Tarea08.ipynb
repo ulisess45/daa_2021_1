{
  "nbformat": 4,
  "nbformat_minor": 0,
  "metadata": {
    "colab": {
      "name": "Tarea08.ipynb",
      "provenance": [],
      "authorship_tag": "ABX9TyPOW3M+vdiAvA48SLtbMQIA",
      "include_colab_link": true
    },
    "kernelspec": {
      "name": "python3",
      "display_name": "Python 3"
    }
  },
  "cells": [
    {
      "cell_type": "markdown",
      "metadata": {
        "id": "view-in-github",
        "colab_type": "text"
      },
      "source": [
        "<a href=\"https://colab.research.google.com/github/ulisess45/daa_2021_1/blob/master/Tarea08.ipynb\" target=\"_parent\"><img src=\"https://colab.research.google.com/assets/colab-badge.svg\" alt=\"Open In Colab\"/></a>"
      ]
    },
    {
      "cell_type": "code",
      "metadata": {
        "colab": {
          "base_uri": "https://localhost:8080/"
        },
        "id": "qwKs9-Gv1Vdq",
        "outputId": "2b37bb10-f0d8-4869-d199-ef55f87f1e4c"
      },
      "source": [
        "alumno1={'id':2, 'nombre':\"Juan\" , 'carrera':\"ICO\", 'promedio':7.67}\r\n",
        "alumno2={'id':4, 'nombre':\"Rocio\" , 'carrera':\"ICI\", 'promedio':8.67}\r\n",
        "alumno3={'id':5, 'nombre':\"Diego\" , 'carrera':\"DER\", 'promedio':8.98}\r\n",
        "alumno4={'id':7, 'nombre':\"May\" , 'carrera':\"ICI\", 'promedio':9.87}\r\n",
        "alumno5={'id':9, 'nombre':\"Rob\" , 'carrera':\"IME\", 'promedio':10.00}\r\n",
        "alumno6={'id':10, 'nombre':\"Santi\" , 'carrera':\"ICO\", 'promedio':5.37}\r\n",
        "alumno7={'id':14, 'nombre':\"Moy\" , 'carrera':\"IME\", 'promedio':6.85}\r\n",
        "alumno8={'id':16, 'nombre':\"Diana\" , 'carrera':\"DER\", 'promedio':9.99}\r\n",
        "alumno9={'id':19, 'nombre':\"Zoila\" , 'carrera':\"ICO\", 'promedio':8.22}\r\n",
        "alumno10={'id':22, 'nombre':\"Armando\" , 'carrera':\"ICO\", 'promedio':7.32}\r\n",
        "bd = []\r\n",
        "bd.append(alumno1)\r\n",
        "bd.append(alumno2)\r\n",
        "bd.append(alumno3)\r\n",
        "bd.append(alumno4)\r\n",
        "bd.append(alumno5)\r\n",
        "bd.append(alumno6)\r\n",
        "bd.append(alumno7)\r\n",
        "bd.append(alumno8)\r\n",
        "bd.append(alumno9)\r\n",
        "bd.append(alumno10)\r\n",
        "\r\n",
        "\r\n",
        "def Busqueda_recursiva(lista,valor,inicio,fin):\r\n",
        "    MID = (inicio + fin)//2\r\n",
        "    if inicio >=  fin:\r\n",
        "        return \"El alumno no existe en la base de datos\"\r\n",
        "    elif lista[MID].get('id') == valor:\r\n",
        "        return MID \r\n",
        "    elif lista[MID].get('id') < valor:\r\n",
        "        return Busqueda_recursiva(lista,valor ,(MID+1), fin)\r\n",
        "    else:\r\n",
        "        return Busqueda_recursiva(lista , valor, inicio, MID)\r\n",
        "\r\n",
        "buscar = int(input(\"Dame el id del alumno a buscar:\"))\r\n",
        "busqueda= Busqueda_recursiva(bd,buscar, 0, len(bd))\r\n",
        "print(f\"{bd[busqueda].get('nombre')} estudia la carrera de {bd[busqueda].get('carrera')} y tiene un promedio de {bd[busqueda].get('promedio')}\")"
      ],
      "execution_count": 1,
      "outputs": [
        {
          "output_type": "stream",
          "text": [
            "Dame el id del alumno a buscar:4\n",
            "Rocio estudia la carrera de ICI y tiene un promedio de 8.67\n"
          ],
          "name": "stdout"
        }
      ]
    }
  ]
}