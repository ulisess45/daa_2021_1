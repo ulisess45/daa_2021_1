{
  "nbformat": 4,
  "nbformat_minor": 0,
  "metadata": {
    "colab": {
      "name": "11Enero.ipynb",
      "provenance": [],
      "authorship_tag": "ABX9TyOlkwojh0NaCGg7WZKlZTNq",
      "include_colab_link": true
    },
    "kernelspec": {
      "name": "python3",
      "display_name": "Python 3"
    }
  },
  "cells": [
    {
      "cell_type": "markdown",
      "metadata": {
        "id": "view-in-github",
        "colab_type": "text"
      },
      "source": [
        "<a href=\"https://colab.research.google.com/github/ulisess45/daa_2021_1/blob/master/11Enero.ipynb\" target=\"_parent\"><img src=\"https://colab.research.google.com/assets/colab-badge.svg\" alt=\"Open In Colab\"/></a>"
      ]
    },
    {
      "cell_type": "code",
      "metadata": {
        "id": "5bb3NO895Wgu"
      },
      "source": [
        "class NodoArbol:\r\n",
        "  def __init__(self, value , left=None , right =None):\r\n",
        "    self.data = value\r\n",
        "    self.left = left\r\n",
        "    self.right = right "
      ],
      "execution_count": 6,
      "outputs": []
    },
    {
      "cell_type": "code",
      "metadata": {
        "id": "nLcARlcn8kVm"
      },
      "source": [
        "arbol = NodoArbol(\"R\", NodoArbol(\"C\") , NodoArbol(\"H\") )"
      ],
      "execution_count": 11,
      "outputs": []
    },
    {
      "cell_type": "code",
      "metadata": {
        "id": "Vv4VLm8E-Fjg"
      },
      "source": [
        "nodo1 =NodoArbol(\"C\")\r\n",
        "nodo2 = NodoArbol(\"H\")\r\n",
        "arbol_v2 =NodoArbol(\"R\", nodo1 , nodo2 )"
      ],
      "execution_count": 8,
      "outputs": []
    },
    {
      "cell_type": "code",
      "metadata": {
        "colab": {
          "base_uri": "https://localhost:8080/"
        },
        "id": "-FcJB6zr-TfW",
        "outputId": "798c9620-5259-43f1-dd34-456db0e20d16"
      },
      "source": [
        "print(arbol.right.data)\r\n",
        "print(arbol_v2.right.data)"
      ],
      "execution_count": 12,
      "outputs": [
        {
          "output_type": "stream",
          "text": [
            "H\n",
            "H\n"
          ],
          "name": "stdout"
        }
      ]
    },
    {
      "cell_type": "code",
      "metadata": {
        "id": "IDYw10WZ_FYm"
      },
      "source": [
        "arbol2= NodoArbol(4,NodoArbol(3,NodoArbol(2,NodoArbol(2))),NodoArbol(5))\r\n",
        "print(arbol2.left.left.left.data)"
      ],
      "execution_count": null,
      "outputs": []
    },
    {
      "cell_type": "code",
      "metadata": {
        "id": "zdZm9BMrEB4I"
      },
      "source": [
        "aux= arbol2\r\n",
        "while aux.left != None:\r\n",
        "  aux = aux.left\r\n",
        "print(aux.data)"
      ],
      "execution_count": null,
      "outputs": []
    },
    {
      "cell_type": "code",
      "metadata": {
        "id": "B8zFHfnVEmct"
      },
      "source": [
        "arbol3 = NodoArbol(\"Santi\",None, NodoArbol(\"Jesus\",NodoArbol(\"Pedro\",None,NodoArbol(\"Diana\")),None))\r\n",
        "print(arbol3.right.left.right.data)"
      ],
      "execution_count": null,
      "outputs": []
    }
  ]
}