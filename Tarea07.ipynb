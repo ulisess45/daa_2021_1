{
  "nbformat": 4,
  "nbformat_minor": 0,
  "metadata": {
    "colab": {
      "name": "Tarea07.ipynb",
      "provenance": [],
      "authorship_tag": "ABX9TyMFC8M9cAK3l5J89jKI/uXr",
      "include_colab_link": true
    },
    "kernelspec": {
      "name": "python3",
      "display_name": "Python 3"
    }
  },
  "cells": [
    {
      "cell_type": "markdown",
      "metadata": {
        "id": "view-in-github",
        "colab_type": "text"
      },
      "source": [
        "<a href=\"https://colab.research.google.com/github/ulisess45/daa_2021_1/blob/master/Tarea07.ipynb\" target=\"_parent\"><img src=\"https://colab.research.google.com/assets/colab-badge.svg\" alt=\"Open In Colab\"/></a>"
      ]
    },
    {
      "cell_type": "code",
      "metadata": {
        "colab": {
          "base_uri": "https://localhost:8080/"
        },
        "id": "pc0PLeEe3wRD",
        "outputId": "42382da8-d1d2-4b2b-b75d-0807abeeb8c5"
      },
      "source": [
        "#1.Crear una lista de enteros en Python y realizar la suma con recursividad, el caso base es cuando la lista este vacía.\n",
        "array=[10,4,6,2,1,5]\n",
        "def suma(lista):\n",
        "    if len(lista) == 1:\n",
        "        return lista[0]\n",
        "    else:\n",
        "        return  lista[0] +  suma(lista[1:])\n",
        "\n",
        "print(suma(array))"
      ],
      "execution_count": null,
      "outputs": [
        {
          "output_type": "stream",
          "text": [
            "28\n"
          ],
          "name": "stdout"
        }
      ]
    },
    {
      "cell_type": "code",
      "metadata": {
        "id": "uMGI3lZV41c7"
      },
      "source": [
        "#2. Hacer un contador regresivo con recursión.\n",
        "def contador(x):\n",
        "    if  x == 0:\n",
        "        print(\"0\")\n",
        "    else:\n",
        "        print(x)\n",
        "        contador(x-1)\n",
        "valor= int(input(\"Dame un numero:\"))\n",
        "contador(valor)"
      ],
      "execution_count": null,
      "outputs": []
    },
    {
      "cell_type": "code",
      "metadata": {
        "id": "pwmETJDjvN9D"
      },
      "source": [
        "#ADT PILA\n",
        "class Stack:\n",
        "  def __init__(self):\n",
        "    self.__datos=[]\n",
        "\n",
        "  def is_empty(self):\n",
        "    return len(self.__datos) == 0\n",
        "  \n",
        "  def get_top(self):\n",
        "    return self.__datos[-1]#regresa el ultimo elemento\n",
        "\n",
        "  def pop(self):\n",
        "\n",
        "    return self.__datos.pop()\n",
        "  \n",
        "  def push(self,valor):\n",
        "        self.__datos.append(valor)\n",
        "\n",
        "  def get_length(self):#numero de elementos \n",
        "    return len(self.__datos)\n",
        "\n",
        "  def to_string(self): #imprimir datos \n",
        "    print(\"---------------\")\n",
        "    for ele in self.__datos[-1::-1]:\n",
        "      print(f\"{ele}\")\n",
        "    print(\"----------------\")\n",
        "\n",
        "  def half(self):\n",
        "    mitad = len(self.__datos) //2\n",
        "    if len(self.__datos)%2 == 0:\n",
        "      print(f\"Los 2 numeros a la mitad son: {self.__datos[mitad],self.__datos[mitad-1]}\")\n",
        "    else:\n",
        "      print(f\"El numero a la mitad es: {self.__datos[mitad]}\")"
      ],
      "execution_count": null,
      "outputs": []
    },
    {
      "cell_type": "code",
      "metadata": {
        "id": "YIhXB-5WLUO1"
      },
      "source": [
        "# 3.Sacar de un ADT pila el valor en la posición media.\n",
        "from Pilas import Stack\n",
        "p=Stack()\n",
        "p.push(3)\n",
        "p.push(4)\n",
        "p.push(6)\n",
        "p.push(8)\n",
        "p.push(2)\n",
        "p.push(9)\n",
        "p.push(10)\n",
        "p.push(23)\n",
        "p.to_string()\n",
        "p.half()"
      ],
      "execution_count": null,
      "outputs": []
    }
  ]
}